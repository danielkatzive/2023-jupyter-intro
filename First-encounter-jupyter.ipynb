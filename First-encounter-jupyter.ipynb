{
 "cells": [
  {
   "cell_type": "markdown",
   "id": "65ba812c",
   "metadata": {},
   "source": [
    "# Working with iPython notebooks\n",
    "\n",
    "### code v. markup\n",
    "\n",
    "Let's explore these basic concepts in this notebook"
   ]
  },
  {
   "cell_type": "code",
   "execution_count": 1,
   "id": "42e41832",
   "metadata": {
    "scrolled": true
   },
   "outputs": [
    {
     "name": "stdout",
     "output_type": "stream",
     "text": [
      "Hello world\n"
     ]
    }
   ],
   "source": [
    "# Traditional kickoff for learning to code\n",
    "print(\"Hello world\")"
   ]
  },
  {
   "cell_type": "code",
   "execution_count": 2,
   "id": "f2b6c0ed",
   "metadata": {},
   "outputs": [
    {
     "name": "stdout",
     "output_type": "stream",
     "text": [
      "Python 3.9.13\r\n"
     ]
    }
   ],
   "source": [
    "## Check what version of Python I have on my computer\n",
    "!python --version"
   ]
  },
  {
   "cell_type": "code",
   "execution_count": 3,
   "id": "8a83b4c7",
   "metadata": {},
   "outputs": [
    {
     "data": {
      "text/plain": [
       "4"
      ]
     },
     "execution_count": 3,
     "metadata": {},
     "output_type": "execute_result"
    }
   ],
   "source": [
    "## validating addition\n",
    "2+2\n"
   ]
  },
  {
   "cell_type": "code",
   "execution_count": 4,
   "id": "c0ab3951",
   "metadata": {},
   "outputs": [
    {
     "data": {
      "text/plain": [
       "5.0"
      ]
     },
     "execution_count": 4,
     "metadata": {},
     "output_type": "execute_result"
    }
   ],
   "source": [
    "##simple division\n",
    "25 / 5"
   ]
  },
  {
   "cell_type": "code",
   "execution_count": 5,
   "id": "121c4c6a",
   "metadata": {},
   "outputs": [
    {
     "data": {
      "text/plain": [
       "1"
      ]
     },
     "execution_count": 5,
     "metadata": {},
     "output_type": "execute_result"
    }
   ],
   "source": [
    "## modulus gives the remainder. odd number divided by 2 has remainder one\n",
    "25 % 2"
   ]
  },
  {
   "cell_type": "markdown",
   "id": "4b52ffae",
   "metadata": {},
   "source": [
    "## list of favorite items\n",
    "\n",
    "Here are Dan's favorite fruits\n",
    "* bananas\n",
    "* berries\n",
    "* kiwis\n",
    "\n",
    "## source of data: \n",
    "I found this data on the <a href=\"https://www.census.gov\"> US census site</a>\n",
    "\n",
    "Another way would be to provide the .[link like this].(https://www.census.gov)"
   ]
  },
  {
   "cell_type": "code",
   "execution_count": null,
   "id": "333c685b",
   "metadata": {},
   "outputs": [],
   "source": []
  }
 ],
 "metadata": {
  "kernelspec": {
   "display_name": "Python 3 (ipykernel)",
   "language": "python",
   "name": "python3"
  },
  "language_info": {
   "codemirror_mode": {
    "name": "ipython",
    "version": 3
   },
   "file_extension": ".py",
   "mimetype": "text/x-python",
   "name": "python",
   "nbconvert_exporter": "python",
   "pygments_lexer": "ipython3",
   "version": "3.9.13"
  }
 },
 "nbformat": 4,
 "nbformat_minor": 5
}
